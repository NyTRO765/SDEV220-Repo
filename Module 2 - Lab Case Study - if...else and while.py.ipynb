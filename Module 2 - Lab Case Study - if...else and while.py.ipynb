{
 "cells": [
  {
   "cell_type": "code",
   "execution_count": null,
   "id": "0d239a93-6393-4989-a317-409d3fcf1288",
   "metadata": {},
   "outputs": [
    {
     "name": "stdin",
     "output_type": "stream",
     "text": [
      "Enter the student's last name:  John\n",
      "Enter the student's first name:  Mark\n",
      "Enter the student's GPA:  3.24\n",
      "Enter the student's last name:  Apple\n",
      "Enter the student's first name:  Meghan\n",
      "Enter the student's GPA:  3.0\n",
      "Enter the student's last name:  Maxx\n",
      "Enter the student's first name:  Morgan\n",
      "Enter the student's GPA:  3.52\n"
     ]
    },
    {
     "name": "stdout",
     "output_type": "stream",
     "text": [
      "Student has made the Dean's List\n",
      "Student has made the Honor Roll\n"
     ]
    },
    {
     "name": "stdin",
     "output_type": "stream",
     "text": [
      "Enter the student's last name:  Steele\n",
      "Enter the student's first name:  Robert\n"
     ]
    }
   ],
   "source": [
    "\"\"\"\n",
    "Module 2 - Lab Case Study - if...else and while.py.ipynb\n",
    "\n",
    "Author: Tre'tin Alvarez\n",
    "Description: This script is to determine whether or not a student qualifies for the Dean's List and/or the Honor Roll\n",
    "\"\"\"\n",
    "while True:\n",
    "## ask for and accept a student's last name.\n",
    "    lname = input(\"Enter the student's last name: \")\n",
    "## quit processing student records if the last name entered is 'ZZZ'.\n",
    "    if lname == \"ZZZ\":\n",
    "        print(\"exiting program...\")\n",
    "        break\n",
    "## ask for and accept a student's first name.\n",
    "    fname = input(\"Enter the student's first name: \")\n",
    "## ask for and accept the student's GPA as a float.\n",
    "    gpa = float(input(\"Enter the student's GPA: \"))\n",
    "## test if the student's GPA is 3.5 or greater and, if so, print a message saying that the student has made the Dean's List.\n",
    "    if gpa >= 3.5:\n",
    "        print(\"Student has made the Dean's List\")\n",
    "## test if the student's GPA is 3.25 or greater and, if so, print a message saying that the studnet has made the Honor Roll\n",
    "    if gpa >= 3.25:\n",
    "        print(\"Student has made the Honor Roll\")"
   ]
  },
  {
   "cell_type": "code",
   "execution_count": null,
   "id": "c6c624bd-ca4b-4526-874e-ec5df7dbe8e4",
   "metadata": {},
   "outputs": [],
   "source": []
  }
 ],
 "metadata": {
  "kernelspec": {
   "display_name": "Python 3 (ipykernel)",
   "language": "python",
   "name": "python3"
  },
  "language_info": {
   "codemirror_mode": {
    "name": "ipython",
    "version": 3
   },
   "file_extension": ".py",
   "mimetype": "text/x-python",
   "name": "python",
   "nbconvert_exporter": "python",
   "pygments_lexer": "ipython3",
   "version": "3.13.5"
  }
 },
 "nbformat": 4,
 "nbformat_minor": 5
}
