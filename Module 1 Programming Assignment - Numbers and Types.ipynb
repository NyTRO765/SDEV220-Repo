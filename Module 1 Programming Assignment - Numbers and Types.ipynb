{
 "cells": [
  {
   "cell_type": "code",
   "execution_count": 6,
   "id": "48bac312-8533-46ad-9c45-98b1c9aa0c2b",
   "metadata": {},
   "outputs": [
    {
     "name": "stdout",
     "output_type": "stream",
     "text": [
      "3600\n"
     ]
    }
   ],
   "source": [
    "### Question 3.1\n",
    "x = 60 * 60\n",
    "print(x)\n",
    "### Answer: 3600 seconds are in an hour"
   ]
  },
  {
   "cell_type": "code",
   "execution_count": 11,
   "id": "a89dbd05-9935-4d2e-89c1-ae72d9b9ca4b",
   "metadata": {},
   "outputs": [
    {
     "name": "stdout",
     "output_type": "stream",
     "text": [
      "3600\n"
     ]
    }
   ],
   "source": [
    "### Question 3.2\n",
    "seconds_per_hour = 60 * 60\n",
    "print(seconds_per_hour) "
   ]
  },
  {
   "cell_type": "code",
   "execution_count": 12,
   "id": "8d450fe3-0206-4a9f-8a41-b5c652b0a941",
   "metadata": {},
   "outputs": [
    {
     "name": "stdout",
     "output_type": "stream",
     "text": [
      "86400\n"
     ]
    }
   ],
   "source": [
    "### Question 3.3\n",
    "seconds_per_hour = 60 * 60\n",
    "x = seconds_per_hour * 24\n",
    "print(x)\n",
    "### Answer: 86,400 seconds are in a day"
   ]
  },
  {
   "cell_type": "code",
   "execution_count": 18,
   "id": "028cdcdd-99b2-493a-97d8-18ede6c41d81",
   "metadata": {},
   "outputs": [
    {
     "name": "stdout",
     "output_type": "stream",
     "text": [
      "86400\n"
     ]
    }
   ],
   "source": [
    "### Question 3.4\n",
    "seconds_per_day = seconds_per_hour * 24\n",
    "print(seconds_per_day)"
   ]
  },
  {
   "cell_type": "code",
   "execution_count": 19,
   "id": "26758f70-e06b-4a11-9b1d-1261f8e8d9e5",
   "metadata": {},
   "outputs": [
    {
     "name": "stdout",
     "output_type": "stream",
     "text": [
      "24.0\n"
     ]
    }
   ],
   "source": [
    "### Question 3.5\n",
    "x = seconds_per_day / seconds_per_hour\n",
    "print(x)\n",
    "### Answer: 24.0"
   ]
  },
  {
   "cell_type": "code",
   "execution_count": 21,
   "id": "cd2e8170-7a2a-4338-8ef4-41ce130d0f07",
   "metadata": {},
   "outputs": [
    {
     "name": "stdout",
     "output_type": "stream",
     "text": [
      "24\n"
     ]
    }
   ],
   "source": [
    "### Question 3.6\n",
    "x = seconds_per_day // seconds_per_hour\n",
    "print (x)\n",
    "### Answer: 24. Yes, outside of the \".0\" the answer agrees with the "
   ]
  },
  {
   "cell_type": "code",
   "execution_count": null,
   "id": "cad2093e-c607-408c-bca3-66952507f14c",
   "metadata": {},
   "outputs": [],
   "source": []
  }
 ],
 "metadata": {
  "kernelspec": {
   "display_name": "Python 3 (ipykernel)",
   "language": "python",
   "name": "python3"
  },
  "language_info": {
   "codemirror_mode": {
    "name": "ipython",
    "version": 3
   },
   "file_extension": ".py",
   "mimetype": "text/x-python",
   "name": "python",
   "nbconvert_exporter": "python",
   "pygments_lexer": "ipython3",
   "version": "3.13.5"
  }
 },
 "nbformat": 4,
 "nbformat_minor": 5
}
