{
 "cells": [
  {
   "cell_type": "code",
   "execution_count": 2,
   "id": "9db04558-f503-4373-ac98-c27902eb62a7",
   "metadata": {},
   "outputs": [
    {
     "name": "stdout",
     "output_type": "stream",
     "text": [
      "[0, 0, 1, 1, 2, 2]\n"
     ]
    }
   ],
   "source": [
    "## OOP Programming Problem\n",
    "class Solution:\n",
    "    @staticmethod\n",
    "    def sort012(arr):\n",
    "        low, mid, high = 0, 0, len(arr) - 1\n",
    "        while mid <= high:\n",
    "            if arr[mid] == 0:\n",
    "                arr[low], arr[mid] = arr[mid], arr[low]\n",
    "                low += 1\n",
    "                mid += 1\n",
    "            elif arr[mid] == 1:\n",
    "                mid += 1\n",
    "            else:\n",
    "                arr[mid], arr[high] = arr[high], arr[mid]\n",
    "                high -= 1\n",
    "\n",
    "\n",
    "if __name__ == \"__main__\":\n",
    "    arr = [0, 1, 2, 0, 1, 2]\n",
    "    Solution.sort012(arr)\n",
    "    print(arr)"
   ]
  },
  {
   "cell_type": "code",
   "execution_count": 11,
   "id": "4d6ed077-a354-4240-8f4d-a5fa70b8b3f8",
   "metadata": {},
   "outputs": [],
   "source": [
    "## Lambda Expressions Exercise\n",
    "class Solution:\n",
    "    def binary_search(arr, k):\n",
    "        low, high = 0, len(arr) - 1\n",
    "        result = -1\n",
    "\n",
    "        while low <= high:\n",
    "            mid = (low + high) // 2\n",
    "\n",
    "            if arr[mid] == k:\n",
    "                result = mid\n",
    "                high = mid - 1\n",
    "            elif arr[mid] < k:\n",
    "                low = mid + 1\n",
    "            else:\n",
    "                high = mid - 1\n",
    "\n",
    "        return result"
   ]
  },
  {
   "cell_type": "code",
   "execution_count": null,
   "id": "d252478d-0327-40e0-929c-f71ca5f0a80b",
   "metadata": {},
   "outputs": [],
   "source": []
  }
 ],
 "metadata": {
  "kernelspec": {
   "display_name": "Python 3 (ipykernel)",
   "language": "python",
   "name": "python3"
  },
  "language_info": {
   "codemirror_mode": {
    "name": "ipython",
    "version": 3
   },
   "file_extension": ".py",
   "mimetype": "text/x-python",
   "name": "python",
   "nbconvert_exporter": "python",
   "pygments_lexer": "ipython3",
   "version": "3.13.5"
  }
 },
 "nbformat": 4,
 "nbformat_minor": 5
}
