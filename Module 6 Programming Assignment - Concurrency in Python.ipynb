{
 "cells": [
  {
   "cell_type": "code",
   "execution_count": null,
   "id": "f9b0753f-fdf8-4030-bf95-b94ff6b59a91",
   "metadata": {},
   "outputs": [],
   "source": [
    "\"\"\"\n",
    "Module 6 Programming Assignment - Concurrency in Python\n",
    "\n",
    "Author: Tre'tin Alvarez\n",
    "Description: This script is to complete a homework assignment based on problems in our book.\n",
    "\n",
    "13.1 - Write the current date as a string to the text file today.txt.\n",
    "13.2 - Read the text file today.txt into the string today_string.\n",
    "13.3 - Parse the date from today_string.\n",
    "15.1 - Use multiprocessing to create three separate processes.\n",
    "    Make each one wait a random number of seconds between zero and one, print the current time, and then exit.\n",
    "\"\"\""
   ]
  },
  {
   "cell_type": "code",
   "execution_count": null,
   "id": "62a65027-f939-44d6-8509-eb412d00033f",
   "metadata": {},
   "outputs": [],
   "source": [
    "## 13.1 - Write the current date as a string to the text file today.txt.\n",
    "from datetime import date\n",
    "\n",
    "today = date.today()\n",
    "\n",
    "with open(\"today.txt\", \"w\") as file:\n",
    "    file.write(str(today))\n"
   ]
  },
  {
   "cell_type": "code",
   "execution_count": null,
   "id": "2dda44c6-b5fd-427e-9832-14d3b20f0d63",
   "metadata": {},
   "outputs": [],
   "source": [
    "## 13.2 - Read the text file today.txt into the string today_string.\n",
    "with open(\"today.txt\", \"r\") as file:\n",
    "    today_string = file.read()\n",
    "\n",
    "print(today_string)\n"
   ]
  },
  {
   "cell_type": "code",
   "execution_count": null,
   "id": "4696d463-3c54-49ad-9c23-37c1618c22eb",
   "metadata": {},
   "outputs": [],
   "source": [
    "## 13.3 - Parse the date from today_string.\n",
    "from datetime import datetime\n",
    "\n",
    "parsed_date = date.fromisoformat(today_string)\n",
    "print(parsed_date)\n"
   ]
  },
  {
   "cell_type": "code",
   "execution_count": null,
   "id": "a2ac222c-0798-44e5-845c-37a136d53d49",
   "metadata": {},
   "outputs": [],
   "source": [
    "## 15.1 - Use multiprocessing to create three separate processes.\n",
    "##    Make each one wait a random number of seconds between zero and one, print the current time, and then exit.\n",
    "import multiprocessing\n",
    "import random\n",
    "import time\n",
    "from datetime import datetime\n",
    "\n",
    "def show_time():\n",
    "    wait = random.random()\n",
    "    time.sleep(wait)\n",
    "    print(f\"Process {multiprocessing.current_process().name} at {datetime.now().time()}\")\n",
    "\n",
    "if __name__ == \"__main__\":\n",
    "    processes = [multiprocessing.Process(target=show_time, name=f\"P{i+1}\") for i in range(3)]\n",
    "\n",
    "    for p in processes:\n",
    "        p.start()\n",
    "\n",
    "    for p in processes:\n",
    "        p.join()\n",
    "\n",
    "    print(\"All processes finished.\")\n"
   ]
  }
 ],
 "metadata": {
  "kernelspec": {
   "display_name": "Python 3 (ipykernel)",
   "language": "python",
   "name": "python3"
  },
  "language_info": {
   "codemirror_mode": {
    "name": "ipython",
    "version": 3
   },
   "file_extension": ".py",
   "mimetype": "text/x-python",
   "name": "python",
   "nbconvert_exporter": "python",
   "pygments_lexer": "ipython3",
   "version": "3.13.5"
  }
 },
 "nbformat": 4,
 "nbformat_minor": 5
}
