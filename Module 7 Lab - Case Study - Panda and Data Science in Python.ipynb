{
 "cells": [
  {
   "cell_type": "code",
   "execution_count": null,
   "id": "5a442abc-9a3e-4662-a2c4-3eb4dcc5aad8",
   "metadata": {},
   "outputs": [],
   "source": [
    "\"\"\"\n",
    "Module 7 Lab - Case Study: Panda and Data Science in Python\n",
    "\n",
    "Author: Tre'tin Alvarez\n",
    "Description: This script is to complete a homework assignment.\n",
    "\n",
    "Watch (https://www.youtube.com/watch?v=tRKeLrwfUgU). Complete the same steps and following along with the tutorial using Jupyter.\n",
    "\"\"\""
   ]
  },
  {
   "cell_type": "code",
   "execution_count": 1,
   "id": "f1df619e-82ac-4ce9-a7d6-e265eb4f4a3d",
   "metadata": {},
   "outputs": [],
   "source": [
    "import pandas as pd"
   ]
  },
  {
   "cell_type": "markdown",
   "id": "ceb31323-aa40-4ed1-bb87-a69504573b75",
   "metadata": {},
   "source": [
    ".pd"
   ]
  },
  {
   "cell_type": "code",
   "execution_count": null,
   "id": "54e4e978-7f60-436f-89e8-60a9172dcb3d",
   "metadata": {},
   "outputs": [],
   "source": []
  },
  {
   "cell_type": "code",
   "execution_count": null,
   "id": "e23c8129-8684-4924-b230-a74943bbc585",
   "metadata": {},
   "outputs": [],
   "source": [
    "df = pd.read_csv('telco_churn.csv')"
   ]
  },
  {
   "cell_type": "code",
   "execution_count": null,
   "id": "7d5588d4-3966-4dfe-b692-e9f967e09ff4",
   "metadata": {},
   "outputs": [],
   "source": []
  },
  {
   "cell_type": "code",
   "execution_count": null,
   "id": "9b433466-ff9a-4cf3-b525-fda8d0cd4688",
   "metadata": {},
   "outputs": [],
   "source": [
    "tempdict = {'col1':[1,2,3], 'col2':[4,5,6], 'col3':[7,8,9]}"
   ]
  },
  {
   "cell_type": "code",
   "execution_count": null,
   "id": "6c378dd1-e8ed-4c45-8ba0-d903b72ebd39",
   "metadata": {},
   "outputs": [],
   "source": [
    "dictdf = pd.DataFrame.from_dict(tempdict)"
   ]
  },
  {
   "cell_type": "markdown",
   "id": "bc30d879-024b-40a8-8664-9ee798aa212e",
   "metadata": {},
   "source": []
  },
  {
   "cell_type": "code",
   "execution_count": null,
   "id": "c44dfe69-884e-4354-9de9-6853a1b53367",
   "metadata": {},
   "outputs": [],
   "source": [
    "df.head(10)"
   ]
  },
  {
   "cell_type": "code",
   "execution_count": null,
   "id": "0ee5177b-0cce-4162-9287-0bef155de26c",
   "metadata": {},
   "outputs": [],
   "source": [
    "dictdf.head()"
   ]
  },
  {
   "cell_type": "code",
   "execution_count": null,
   "id": "522430cb-7ad5-46c0-a7c7-de9c5a8ba0f3",
   "metadata": {},
   "outputs": [],
   "source": [
    "df.tail(15)"
   ]
  },
  {
   "cell_type": "code",
   "execution_count": null,
   "id": "ba4f4955-eccd-4370-9131-904706a76f3b",
   "metadata": {},
   "outputs": [],
   "source": []
  },
  {
   "cell_type": "code",
   "execution_count": null,
   "id": "bae77d93-dbb7-48ac-93c1-72de495e0b38",
   "metadata": {},
   "outputs": [],
   "source": [
    "df.columns"
   ]
  },
  {
   "cell_type": "code",
   "execution_count": null,
   "id": "3578e4d4-0fd6-45a0-bdf0-56904b088c78",
   "metadata": {},
   "outputs": [],
   "source": [
    "df.dtypes"
   ]
  },
  {
   "cell_type": "code",
   "execution_count": null,
   "id": "2d47b889-c714-43a3-ac2b-779350c5c208",
   "metadata": {},
   "outputs": [],
   "source": []
  },
  {
   "cell_type": "code",
   "execution_count": null,
   "id": "ffd5c3a0-388b-41d1-914b-6fc37aadfb2f",
   "metadata": {},
   "outputs": [],
   "source": [
    "df.describe()"
   ]
  },
  {
   "cell_type": "code",
   "execution_count": null,
   "id": "0205bc62-9834-4af2-ba23-d5d9a5d455a7",
   "metadata": {},
   "outputs": [],
   "source": [
    "df.describe(include='object')"
   ]
  },
  {
   "cell_type": "code",
   "execution_count": null,
   "id": "531fb793-c7f4-4b00-83db-6a123e43dc3d",
   "metadata": {},
   "outputs": [],
   "source": []
  },
  {
   "cell_type": "code",
   "execution_count": null,
   "id": "a7046a9b-6fde-4cc9-b51d-29c2638bf66c",
   "metadata": {},
   "outputs": [],
   "source": [
    "df.State"
   ]
  },
  {
   "cell_type": "code",
   "execution_count": null,
   "id": "bb543630-5009-4b56-a744-023409b885a2",
   "metadata": {},
   "outputs": [],
   "source": [
    "df['International plan']"
   ]
  },
  {
   "cell_type": "code",
   "execution_count": null,
   "id": "e104d45f-df3b-4a26-9c16-3abf73c8a37d",
   "metadata": {},
   "outputs": [],
   "source": [
    "df[['State', 'International plan']]"
   ]
  },
  {
   "cell_type": "code",
   "execution_count": null,
   "id": "8db2bae0-ebd1-433e-b2d4-3f773396f3e5",
   "metadata": {},
   "outputs": [],
   "source": [
    "df.Churn.unique()"
   ]
  },
  {
   "cell_type": "code",
   "execution_count": null,
   "id": "8398831a-c3a0-4442-a081-ee6c4c413dcf",
   "metadata": {},
   "outputs": [],
   "source": [
    "df.head()"
   ]
  },
  {
   "cell_type": "code",
   "execution_count": null,
   "id": "539a0abc-fcc4-4f6c-aff0-b079ce23c2e8",
   "metadata": {},
   "outputs": [],
   "source": [
    "df[df['International plan']=='No']"
   ]
  },
  {
   "cell_type": "code",
   "execution_count": null,
   "id": "5b746bab-0a91-4b22-a242-bd42193ad68f",
   "metadata": {},
   "outputs": [],
   "source": [
    "df[(df['International plan']=='No') & (df['Churn']==True)]"
   ]
  },
  {
   "cell_type": "code",
   "execution_count": null,
   "id": "f9f98a11-c63f-403e-9a1e-5155af269086",
   "metadata": {},
   "outputs": [],
   "source": []
  },
  {
   "cell_type": "code",
   "execution_count": null,
   "id": "2ce33dd0-c05f-4ed5-a709-39f65d5c9042",
   "metadata": {},
   "outputs": [],
   "source": [
    "df.iloc[14]"
   ]
  },
  {
   "cell_type": "code",
   "execution_count": null,
   "id": "3b8e497a-ca35-4ca8-95f6-bcc6c6f2f1cd",
   "metadata": {},
   "outputs": [],
   "source": [
    "df.iloc[14,-1]"
   ]
  },
  {
   "cell_type": "code",
   "execution_count": null,
   "id": "63237562-3fe6-49c6-8773-8f6b4c278be7",
   "metadata": {},
   "outputs": [],
   "source": [
    "df.iloc[22:33]"
   ]
  },
  {
   "cell_type": "code",
   "execution_count": null,
   "id": "bd121775-871d-492f-8ec9-d8613c2a0bf5",
   "metadata": {},
   "outputs": [],
   "source": []
  },
  {
   "cell_type": "code",
   "execution_count": null,
   "id": "61db0a2c-25e6-4ce8-b8d7-b92fea66002a",
   "metadata": {},
   "outputs": [],
   "source": [
    "state = df.copy()\n",
    "state.set_index('State', inplace=True)"
   ]
  },
  {
   "cell_type": "code",
   "execution_count": null,
   "id": "ec5b953d-9c35-4b15-8fbc-86035d9a770a",
   "metadata": {},
   "outputs": [],
   "source": [
    "state.head()"
   ]
  },
  {
   "cell_type": "code",
   "execution_count": null,
   "id": "b9311c7a-8250-4216-9a17-b8642cb3b085",
   "metadata": {},
   "outputs": [],
   "source": [
    "state.loc['OH']"
   ]
  },
  {
   "cell_type": "code",
   "execution_count": null,
   "id": "e8bf817b-ee4d-4937-bf04-590a7a9dc213",
   "metadata": {},
   "outputs": [],
   "source": []
  },
  {
   "cell_type": "code",
   "execution_count": null,
   "id": "2dfecbbf-0519-4fd9-bd41-9497b969d4f3",
   "metadata": {},
   "outputs": [],
   "source": [
    "df.isnull().sum()"
   ]
  },
  {
   "cell_type": "code",
   "execution_count": null,
   "id": "96531208-91b9-41d9-9836-b7b24eb19b8b",
   "metadata": {},
   "outputs": [],
   "source": [
    "df.dropna(inplace=True)"
   ]
  },
  {
   "cell_type": "code",
   "execution_count": null,
   "id": "8dde85d9-da76-4c4c-9741-4eaf94e06bc8",
   "metadata": {},
   "outputs": [],
   "source": [
    "df.isnull().sum()"
   ]
  },
  {
   "cell_type": "code",
   "execution_count": null,
   "id": "66a7320e-8a22-4a47-8e96-7ef5cec81b82",
   "metadata": {},
   "outputs": [],
   "source": []
  },
  {
   "cell_type": "code",
   "execution_count": null,
   "id": "71ce88fe-034e-4a63-8608-7e456063ab3c",
   "metadata": {},
   "outputs": [],
   "source": [
    "df.drop('Area code', axis=1)"
   ]
  },
  {
   "cell_type": "code",
   "execution_count": null,
   "id": "0b47e9a7-7010-4fc3-a740-36b788597dfd",
   "metadata": {},
   "outputs": [],
   "source": []
  },
  {
   "cell_type": "code",
   "execution_count": null,
   "id": "54ad425a-efd9-48b5-a380-c1a0ba8e5750",
   "metadata": {},
   "outputs": [],
   "source": [
    "df['New Column'] = df['Total night minutes'] + df['Total intl minutes']"
   ]
  },
  {
   "cell_type": "code",
   "execution_count": null,
   "id": "3aad3c72-a0d9-46a4-ad96-70674688b346",
   "metadata": {},
   "outputs": [],
   "source": [
    "df.head()"
   ]
  },
  {
   "cell_type": "code",
   "execution_count": null,
   "id": "528d96d4-46b9-46cc-a1b2-5659359d75f8",
   "metadata": {},
   "outputs": [],
   "source": []
  },
  {
   "cell_type": "code",
   "execution_count": null,
   "id": "6de2c4d7-31e1-4126-a953-303689d8b1b4",
   "metadata": {},
   "outputs": [],
   "source": [
    "df['New Column'] = 100"
   ]
  },
  {
   "cell_type": "code",
   "execution_count": null,
   "id": "69ef0d0d-12be-4a68-8eac-591f3c7c1abd",
   "metadata": {},
   "outputs": [],
   "source": [
    "df.head()"
   ]
  },
  {
   "cell_type": "code",
   "execution_count": null,
   "id": "91060ada-36a9-4536-8e60-d3e83e6143f4",
   "metadata": {},
   "outputs": [],
   "source": []
  },
  {
   "cell_type": "code",
   "execution_count": null,
   "id": "5fa5a599-a5b0-4132-86e1-efafb76cad3f",
   "metadata": {},
   "outputs": [],
   "source": [
    "df.iloc[0,-1] = 10"
   ]
  },
  {
   "cell_type": "code",
   "execution_count": null,
   "id": "04783718-5e9e-46af-8588-fb60d72a8927",
   "metadata": {},
   "outputs": [],
   "source": [
    "df.head()"
   ]
  },
  {
   "cell_type": "code",
   "execution_count": null,
   "id": "5fc3505d-12eb-4ded-a243-c47fbfdee4d2",
   "metadata": {},
   "outputs": [],
   "source": []
  },
  {
   "cell_type": "code",
   "execution_count": null,
   "id": "0c515c8c-8146-400e-bbcd-026f66e59cef",
   "metadata": {},
   "outputs": [],
   "source": [
    "df['Churn Binary'] = df['Churn'].apply(lambda x: 1 if x==True else 0)"
   ]
  },
  {
   "cell_type": "code",
   "execution_count": null,
   "id": "fa9d5d67-1b41-43ac-8ff0-8dde48c89173",
   "metadata": {},
   "outputs": [],
   "source": [
    "df[df['Churn']==True].head()"
   ]
  },
  {
   "cell_type": "code",
   "execution_count": null,
   "id": "47c5f26a-8d50-435e-b9dd-fa84a3569844",
   "metadata": {},
   "outputs": [],
   "source": []
  },
  {
   "cell_type": "code",
   "execution_count": null,
   "id": "644ef05a-c710-4183-b0cc-a21a0bfe0cb6",
   "metadata": {},
   "outputs": [],
   "source": [
    "df.to_csv('output.csv')"
   ]
  },
  {
   "cell_type": "code",
   "execution_count": null,
   "id": "c8c92d50-a82c-46b1-a1ea-5dc5bbf99efd",
   "metadata": {},
   "outputs": [],
   "source": []
  },
  {
   "cell_type": "code",
   "execution_count": null,
   "id": "b0fa4115-e2d8-46b7-bec4-a04d1a84f369",
   "metadata": {},
   "outputs": [],
   "source": [
    "df.to_json()"
   ]
  },
  {
   "cell_type": "code",
   "execution_count": null,
   "id": "47c14104-4e9c-4a98-946b-537a94d011ab",
   "metadata": {},
   "outputs": [],
   "source": []
  },
  {
   "cell_type": "code",
   "execution_count": null,
   "id": "167a42f3-3a43-48c5-b9e9-28d99065bff5",
   "metadata": {},
   "outputs": [],
   "source": [
    "df.to_html()"
   ]
  },
  {
   "cell_type": "code",
   "execution_count": null,
   "id": "93318848-c040-4496-acfe-1ceefbb0c2d9",
   "metadata": {},
   "outputs": [],
   "source": []
  },
  {
   "cell_type": "code",
   "execution_count": null,
   "id": "415e47b1-ac34-490b-8d84-bc587924782c",
   "metadata": {},
   "outputs": [],
   "source": [
    "del df"
   ]
  }
 ],
 "metadata": {
  "kernelspec": {
   "display_name": "Python 3 (ipykernel)",
   "language": "python",
   "name": "python3"
  },
  "language_info": {
   "codemirror_mode": {
    "name": "ipython",
    "version": 3
   },
   "file_extension": ".py",
   "mimetype": "text/x-python",
   "name": "python",
   "nbconvert_exporter": "python",
   "pygments_lexer": "ipython3",
   "version": "3.13.5"
  }
 },
 "nbformat": 4,
 "nbformat_minor": 5
}
