{
 "cells": [
  {
   "cell_type": "code",
   "execution_count": 4,
   "id": "c363e957-fcc1-44fb-9834-471fbcacc022",
   "metadata": {},
   "outputs": [
    {
     "name": "stdout",
     "output_type": "stream",
     "text": [
      "Welcome, there is a secret number I need you to guess from 1-10. Try to guess that number!\n"
     ]
    },
    {
     "name": "stdin",
     "output_type": "stream",
     "text": [
      "Please enter a number from 1-10:  8\n"
     ]
    },
    {
     "name": "stdout",
     "output_type": "stream",
     "text": [
      "too high\n"
     ]
    }
   ],
   "source": [
    "## Question 4.1\n",
    "print(\"Welcome, there is a secret number I need you to guess from 1-10. Try to guess that number!\")\n",
    "secret = 7\n",
    "guess = int(input(\"Please enter a number from 1-10: \"))\n",
    "if guess < secret:\n",
    "    print(\"too low\")\n",
    "elif guess > secret:\n",
    "    print (\"too high\")\n",
    "else:\n",
    "    print (\"just right\") "
   ]
  },
  {
   "cell_type": "code",
   "execution_count": 6,
   "id": "81eeed18-a193-4e2e-b5c3-448cc638a09e",
   "metadata": {},
   "outputs": [
    {
     "name": "stdout",
     "output_type": "stream",
     "text": [
      "It's a watermelon\n"
     ]
    }
   ],
   "source": [
    "## Question 4.2\n",
    "small = False\n",
    "green = True\n",
    "if small:\n",
    "    if green:\n",
    "        print(\"It's a pea\")\n",
    "    else:\n",
    "        print(\"It's a cherry\")\n",
    "else:\n",
    "    if green:\n",
    "        print(\"It's a watermelon\")\n",
    "    else:\n",
    "        print(\"It's a pumpkin\")"
   ]
  },
  {
   "cell_type": "code",
   "execution_count": 7,
   "id": "da774112-c943-49fc-8a0d-a68e22e34861",
   "metadata": {},
   "outputs": [
    {
     "name": "stdout",
     "output_type": "stream",
     "text": [
      "3\n",
      "2\n",
      "1\n",
      "0\n"
     ]
    }
   ],
   "source": [
    "## Question 6.1\n",
    "numbers = [3, 2, 1, 0]\n",
    "for num in numbers:\n",
    "    print(num)"
   ]
  },
  {
   "cell_type": "code",
   "execution_count": 14,
   "id": "e38e75df-fd46-4973-bdd3-d444ec694928",
   "metadata": {},
   "outputs": [
    {
     "name": "stdout",
     "output_type": "stream",
     "text": [
      "too low\n",
      "too low\n",
      "too low\n",
      "too low\n",
      "too low\n",
      "too low\n",
      "found it!\n"
     ]
    }
   ],
   "source": [
    "## Question 6.2\n",
    "guess_me = 7\n",
    "number = 1\n",
    "while True:\n",
    "    if number < guess_me:\n",
    "        print(\"too low\")\n",
    "    elif number == guess_me:\n",
    "        print(\"found it!\")\n",
    "        break\n",
    "    else:\n",
    "        print (\"oops\")\n",
    "        break\n",
    "    number += 1"
   ]
  },
  {
   "cell_type": "code",
   "execution_count": 17,
   "id": "bb4fa342-cd89-47bb-9507-adcd2bf60d68",
   "metadata": {},
   "outputs": [
    {
     "name": "stdout",
     "output_type": "stream",
     "text": [
      "too low\n",
      "too low\n",
      "too low\n",
      "too low\n",
      "too low\n",
      "found it!\n"
     ]
    }
   ],
   "source": [
    "## Question 6.3\n",
    "guess_me = 5\n",
    "numbers = range(10)\n",
    "for x in numbers:\n",
    "    if x < guess_me:\n",
    "        print(\"too low\")\n",
    "    elif x == guess_me:\n",
    "        print(\"found it!\")\n",
    "        break\n",
    "    else:\n",
    "        print(\"oops\")\n",
    "        break"
   ]
  },
  {
   "cell_type": "code",
   "execution_count": null,
   "id": "6d6c3106-e2d7-443b-ba46-71a236ba171d",
   "metadata": {},
   "outputs": [],
   "source": []
  }
 ],
 "metadata": {
  "kernelspec": {
   "display_name": "Python 3 (ipykernel)",
   "language": "python",
   "name": "python3"
  },
  "language_info": {
   "codemirror_mode": {
    "name": "ipython",
    "version": 3
   },
   "file_extension": ".py",
   "mimetype": "text/x-python",
   "name": "python",
   "nbconvert_exporter": "python",
   "pygments_lexer": "ipython3",
   "version": "3.13.5"
  }
 },
 "nbformat": 4,
 "nbformat_minor": 5
}
