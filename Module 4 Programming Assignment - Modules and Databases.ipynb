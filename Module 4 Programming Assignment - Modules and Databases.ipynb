{
 "cells": [
  {
   "cell_type": "code",
   "execution_count": null,
   "id": "467942f9-d530-44ea-8877-4b8056b67d11",
   "metadata": {},
   "outputs": [],
   "source": [
    "\"\"\"\n",
    "Module 4 Programming Assignment - Modules and Databases\n",
    "\n",
    "Author: Tre'tin Alvarez\n",
    "Description: This script is to complete a homework assignment based on problems in our book.\n",
    "\n",
    "11.1 - Create a file called zoo.py. In it, define a function called hours() that prints the string 'Open 9-5 daily'. \n",
    "Then, use the interactive interpreter to import the zoo module and call its hours() function.\n",
    "\n",
    "11.2 - In the interactive interpreter, import the zoo module as menagerie and call its hours() function.\n",
    "\n",
    "16.8 - Use the sqlalchemy module to connect to the sqlite3 database books.db that you just made in exercise 16.4.\n",
    "As in 16.6, select and print the title column from the book table in alphabetical order.\n",
    "\"\"\""
   ]
  },
  {
   "cell_type": "code",
   "execution_count": null,
   "id": "81a3a6f3-915f-4132-b0fd-d49e6f990332",
   "metadata": {},
   "outputs": [],
   "source": [
    "## 11.1 \n",
    "\n",
    "# zoo.py file\n",
    "def hours():\n",
    "    print(\"Open 9-5 daily\")\n",
    "\n",
    "#interpreter\n",
    "import zoo\n",
    "\n",
    "zoo.hours()\n",
    "\n",
    "#output\n",
    "Open 9-5 daily"
   ]
  },
  {
   "cell_type": "code",
   "execution_count": null,
   "id": "16eec03c-974c-4b79-b68c-9cf642678ecf",
   "metadata": {},
   "outputs": [],
   "source": [
    "## 11.2\n",
    "\n",
    "#interpreter\n",
    "import zoo as menagerie\n",
    "\n",
    "menagerie.hours()\n",
    "\n",
    "#output\n",
    "Open 9-5 daily"
   ]
  },
  {
   "cell_type": "code",
   "execution_count": null,
   "id": "3a3b9cba-a095-4520-b2fc-6ee9580e411a",
   "metadata": {},
   "outputs": [],
   "source": [
    "## 16.8\n",
    "\n",
    "from sqlalchemy import create_engine, MetaData, Table, select\n",
    "\n",
    "engine = create_engine(\"sqlite:///books.db\")\n",
    "\n",
    "metadata = MetaData()\n",
    "metadata.reflect(bind=engine)\n",
    "\n",
    "book_table = metadata.tables['book']\n",
    "\n",
    "stmt = select(book_table.c.title).order_by(book_table.c.title)\n",
    "\n",
    "with engine.connect() as conn:\n",
    "    results = conn.execute(stmt)\n",
    "    for row in results:\n",
    "        print(row.title)"
   ]
  }
 ],
 "metadata": {
  "kernelspec": {
   "display_name": "Python 3 (ipykernel)",
   "language": "python",
   "name": "python3"
  },
  "language_info": {
   "codemirror_mode": {
    "name": "ipython",
    "version": 3
   },
   "file_extension": ".py",
   "mimetype": "text/x-python",
   "name": "python",
   "nbconvert_exporter": "python",
   "pygments_lexer": "ipython3",
   "version": "3.13.5"
  }
 },
 "nbformat": 4,
 "nbformat_minor": 5
}
