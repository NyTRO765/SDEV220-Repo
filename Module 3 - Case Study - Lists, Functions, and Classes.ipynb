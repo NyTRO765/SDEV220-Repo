{
 "cells": [
  {
   "cell_type": "code",
   "execution_count": 7,
   "id": "3162c761-7b92-49fb-ace4-b5df854d310c",
   "metadata": {},
   "outputs": [
    {
     "name": "stdin",
     "output_type": "stream",
     "text": [
      "Enter vehicle type:  car\n",
      "Year:  2022\n",
      "Make:  Toyota\n",
      "Model:  Corolla\n",
      "Number of doors (2 or 4):  4\n",
      "Type of roof (solid or sun roof):  sun roof\n"
     ]
    },
    {
     "name": "stdout",
     "output_type": "stream",
     "text": [
      "\n",
      "Vehicle Information:\n",
      "Vehicle type: car\n",
      "Year: 2022\n",
      "Make: Toyota\n",
      "Model: Corolla\n",
      "Number of doors: 4\n",
      "Type of roof: sun roof\n"
     ]
    }
   ],
   "source": [
    "\"\"\"\n",
    "Module 3 - Case Study - Lists, Functions, and Classes.ipynb\n",
    "\n",
    "Author: Tre'tin Alvarez\n",
    "Description: This script is to create an app that will accept user input to add a vehicle type and its information to a super class called \"Vehicle\".\n",
    "Vehicle Information/Variables: type, year, make, model, doors (2 or 4), and roof (solid or sun roof)\n",
    "\"\"\"\n",
    "\n",
    "class Vehicle:\n",
    "    def __init__(self, vehicle_type):\n",
    "        self.vehicle_type = vehicle_type\n",
    "\n",
    "class Automobile(Vehicle):\n",
    "    def __init__(self, vehicle_type, year, make, model, doors, roof):\n",
    "        super().__init__(vehicle_type)\n",
    "        self.year = year\n",
    "        self.make = make\n",
    "        self.model = model\n",
    "        self.doors = doors\n",
    "        self.roof = roof\n",
    "\n",
    "    def display_info(self):\n",
    "        print(f\"Vehicle type: {self.vehicle_type}\")\n",
    "        print(f\"Year: {self.year}\")\n",
    "        print(f\"Make: {self.make}\")\n",
    "        print(f\"Model: {self.model}\")\n",
    "        print(f\"Number of doors: {self.doors}\")\n",
    "        print(f\"Type of roof: {self.roof}\")\n",
    "\n",
    "def main():\n",
    "    vehicle_type = input(\"Enter vehicle type: \").strip()\n",
    "\n",
    "    year = input(\"Year: \")\n",
    "    make = input(\"Make: \")\n",
    "    model = input(\"Model: \")\n",
    "\n",
    "    while True:\n",
    "        doors = input(\"Number of doors (2 or 4): \")\n",
    "        if doors in ['2', '4']:\n",
    "            doors = int(doors)\n",
    "            break\n",
    "        else:\n",
    "            print(\"Enter 2 or 4.\")\n",
    "\n",
    "    while True:\n",
    "        roof = input(\"Type of roof (solid or sun roof): \").strip().lower()\n",
    "        if roof in ['solid', 'sun roof']:\n",
    "            break\n",
    "        else:\n",
    "            print(\"Enter 'solid' or 'sun roof'.\")\n",
    "\n",
    "    vehicle = Automobile(vehicle_type, year, make, model, doors, roof)\n",
    "\n",
    "    print(\"\\nVehicle Information:\")\n",
    "    vehicle.display_info()\n",
    "\n",
    "\n",
    "if __name__ == \"__main__\":\n",
    "    main()\n"
   ]
  },
  {
   "cell_type": "code",
   "execution_count": null,
   "id": "52cca082-17fb-45cb-9ac4-90240d3d1126",
   "metadata": {},
   "outputs": [],
   "source": []
  }
 ],
 "metadata": {
  "kernelspec": {
   "display_name": "Python 3 (ipykernel)",
   "language": "python",
   "name": "python3"
  },
  "language_info": {
   "codemirror_mode": {
    "name": "ipython",
    "version": 3
   },
   "file_extension": ".py",
   "mimetype": "text/x-python",
   "name": "python",
   "nbconvert_exporter": "python",
   "pygments_lexer": "ipython3",
   "version": "3.13.5"
  }
 },
 "nbformat": 4,
 "nbformat_minor": 5
}
